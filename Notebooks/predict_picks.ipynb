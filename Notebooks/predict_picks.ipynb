{
  "nbformat": 4,
  "nbformat_minor": 0,
  "metadata": {
    "kernelspec": {
      "display_name": "Python 3",
      "language": "python",
      "name": "python3"
    },
    "language_info": {
      "codemirror_mode": {
        "name": "ipython",
        "version": 3
      },
      "file_extension": ".py",
      "mimetype": "text/x-python",
      "name": "python",
      "nbconvert_exporter": "python",
      "pygments_lexer": "ipython3",
      "version": "3.7.3"
    },
    "colab": {
      "name": "predict_picks.ipynb",
      "provenance": [],
      "collapsed_sections": [],
      "include_colab_link": true
    }
  },
  "cells": [
    {
      "cell_type": "markdown",
      "metadata": {
        "id": "view-in-github",
        "colab_type": "text"
      },
      "source": [
        "<a href=\"https://colab.research.google.com/github/The-Geology-Guy/ncaa_select_picks/blob/main/predict_picks.ipynb\" target=\"_parent\"><img src=\"https://colab.research.google.com/assets/colab-badge.svg\" alt=\"Open In Colab\"/></a>"
      ]
    },
    {
      "cell_type": "markdown",
      "metadata": {
        "id": "LqATwxDvX_uZ"
      },
      "source": [
        "### 1. March Madness Bracket Picks Generator\n",
        "\n",
        "Every year, millions of people across the globe tune into the madness of the NCAA Men's Basketball tournament March Madness. This is a tournament involving 64 teams, all with the mission to win every game and be crowned the best in Men's Collegiate Basketball. \n",
        "\n",
        "![Show Image](https://upload.wikimedia.org/wikipedia/en/thumb/2/28/March_Madness_logo.svg/220px-March_Madness_logo.svg.png)\n",
        "###### Image source: https://upload.wikimedia.org/wikipedia/en/thumb/2/28/March_Madness_logo.svg/220px-March_Madness_logo.svg.png\n",
        "\n",
        "The madness does not just stay on the court, as millions of people each year will fill out brackets in hope that their's will be one of the well known perfect brackets. This perfect bracket is, of course, just improbable, as there are about $1.27\\times10^{89}$ different combinations of outcomes for a 64 team bracket. Still, the infintesimal probability does not stop people from filling out multiple brackets, with the hope of having at least the best in their office!\n",
        "\n",
        "- **Round 1:** 64 teams split into 4 regions with 16 teams in each region (_region names change year to year_)\n",
        "- **Round 2:** 32 teams remain in total, split between the 4 regions with 8 teams remaining in each region\n",
        "- **Regional Semifinals (Sweet 16):** 16 teams remain in total, split between the 4 regions with 4 teams remaining in each region\n",
        "- **Regional Finals (Elite 8):** 8 teams remain in total, split between the 4 regions with 2 teams remaining in each region\n",
        "- **National Semifinals (Final 4):** the winning team for each region go head-to-head with the opposing region, ex. EAST vs. WEST & SOUTH vs. MIDWEST\n",
        "- **National Championship:** only 2 teams remain and will battle to be crowned the best basketball team in NCAA Men's Collegiate Basketball\n",
        "\n",
        "In this notebook, we will explore a way to make predictions based on coin flips. In essence, the model takes the seeding pairs of matchups and pins them against each other in a game involving chance. \n",
        "\n",
        "For example, if a 5 seed were to play a 12 seed, then the following would occur:\n",
        "\n",
        "- 17 total flips of a coin\n",
        "- If there are more than 5 occurances of 'Heads' in the set of coin flips, then the **Higher** seed (5) wins.\n",
        "- If there are 13 or more occurances of 'Tails' in the set of coin flips, then the **Lower** seed (12) wins.\n",
        "\n",
        "This basic scenario will determine each match up. However, there are some other factors to be taken into account when moving forward with the tournament.\n",
        "\n",
        "To begin this process, we will first need to import the packages we will be using throughout this predictor. The two packages to import are numpy and random."
      ]
    },
    {
      "cell_type": "code",
      "metadata": {
        "trusted": true,
        "id": "jRhnURfWX_uc"
      },
      "source": [
        "# Import numpy\n",
        "import numpy as np\n",
        "\n",
        "# Import random\n",
        "import random as rd"
      ],
      "execution_count": 11,
      "outputs": []
    },
    {
      "cell_type": "markdown",
      "metadata": {
        "id": "ajIdB8XMX_un"
      },
      "source": [
        "### 2. Pick the best team\n",
        "\n",
        "As mentioned in the introduction, the best team for each matchup is determined by the number of heads in a list of trials. The number of trials is equal to the sum of the two seeds put head to head - _this will become more clear as you progress through the notebook._ \n",
        "\n",
        "Using a while loop, the function will run the number of trials equal to the sum of the seeds and store this information in a list named `results`. Whether or not the coin is deemed heads or tails is based on the `.randint()` output. If the coin is equal to 1, then the coin is deemed to have landed on heads, where if the coin equals 2, it is deemed tails. \n",
        "\n",
        "Once the list `results` has been completed, the number of heads is counted and compared to the seeds. If the number of heads is greater than the seed number of the higher seed (the minimum of the two seed numbers) then it will return `high_seed`. Where it will return `low_seed` otherwise."
      ]
    },
    {
      "cell_type": "code",
      "metadata": {
        "trusted": true,
        "id": "na2ZC-CzX_up"
      },
      "source": [
        "def pick_best(high_seed, low_seed):\n",
        "    \n",
        "    '''pick_best takes the high seed and the low seed and determines which \n",
        "    seed wins the round. The trial length is determined by the sum of the two seeds.'''\n",
        "    \n",
        "    # Flip the coin a number of times equal to the sum of the low and high seeds\n",
        "    results = []\n",
        "    trial = 0\n",
        "    while trial < (low_seed + high_seed):\n",
        "        coin = rd.randint(1, 2)\n",
        "        if coin == 1:\n",
        "            results.append('H')\n",
        "            trial += 1\n",
        "        elif coin == 2:\n",
        "            results.append('T')\n",
        "            trial += 1\n",
        "    \n",
        "    # Determine the winner based on the results list\n",
        "    if results.count('H') > min(high_seed, low_seed):\n",
        "        return high_seed\n",
        "    else:\n",
        "        return low_seed"
      ],
      "execution_count": 12,
      "outputs": []
    },
    {
      "cell_type": "markdown",
      "metadata": {
        "id": "CMAoZ4LIX_us"
      },
      "source": [
        "### 3. Determine winners of round 1\n",
        "\n",
        "Round 1 has 32 matchups between 64 teams in only a few days, at this point in the month, it is truely madness. For those spectators not on the court, but trying to win their company or school bracket competition, this is where the vast majority of brackets lose any chance at perfection.\n",
        "\n",
        "The first part of this function adds the high and low seeds to two different variables `high_points` and `low_points`. Just for some clairification, the high seeds are ordered from low to high, or 1 through 8, where the low seeds are ordered in reverse order, or 16 through 9. This is so that when they are zipped together that the matchups are properly aligned in the resulting tuple - which should look like the following: $(1, 16), (2, 15), ... , (6, 9), (7, 8)$\n",
        "\n",
        "Next, the function loops through the tuples and applies the `pick_best` function. \n",
        "\n",
        "Lastly, in order to stay in line with how the bracket is constructed, _reference this to see how the winners proceed_, we cut the list in half and return a tuple containing the matchups for the next round."
      ]
    },
    {
      "cell_type": "code",
      "metadata": {
        "trusted": true,
        "id": "y3VtqmgmX_ut"
      },
      "source": [
        "def round_1():\n",
        "    \n",
        "    '''round_1 is a function that initiates the seeding pairs by implementing a \n",
        "    range of numbers between 1 and 16. Then, it zips together the high and low\n",
        "    seeds together into a tuple. Lastly, this runs the pick_best function and \n",
        "    returns a list of the winners of the round.'''\n",
        "    \n",
        "    #Initiate the seed pairings for the conference (1 through 16)\n",
        "    high_points = np.arange(1, 9)\n",
        "    low_points = np.arange(16, 8, -1)\n",
        "    \n",
        "    # Zip together the high and low points and save to the variable matchups as a tuple\n",
        "    matchups = tuple(zip(high_points, low_points))\n",
        "    \n",
        "    # Pick the winners of each matchup by looping through the matchups with the pick_best function\n",
        "    results_rd = []\n",
        "    i = 0\n",
        "    while i < len(matchups):\n",
        "        winner = pick_best(matchups[i][0], matchups[i][1])\n",
        "        results_rd.append(winner)\n",
        "        i += 1\n",
        "        \n",
        "    # Determine the halfway point of the list and only return the winning values\n",
        "    halfway = int(len(results_rd) / 2)\n",
        "    round_1_winners = tuple(zip(results_rd[:halfway], reversed(results_rd[halfway:])))\n",
        "    return round_1_winners"
      ],
      "execution_count": 13,
      "outputs": []
    },
    {
      "cell_type": "markdown",
      "metadata": {
        "id": "2xXs4HgeX_ux"
      },
      "source": [
        "### 4. Determine winners of round 2\n",
        "\n",
        "Much like the round 1 function, the round 2 function is named `round_2`. In this round, the function will be determining the 16 teams, _before this function, 8 teams remain for each region, after this is run, 4 teams will move on, where 4 teams by 4 regions is equal to 16 teams remaining._\n",
        "\n",
        "The big difference between the functions `round_1` and `round_2` is that the function does not need to initiate the list of teams for each region and their respective matchups. Using this known difference, the task for `round_2` will be to recreate `round_1`, except this time the function will be reading in the tupled list `match_list`."
      ]
    },
    {
      "cell_type": "code",
      "metadata": {
        "trusted": true,
        "id": "GolbQlqQX_uz"
      },
      "source": [
        "def round_2(match_list):\n",
        "    \n",
        "    '''This runs the pick_best function for the matchups determined\n",
        "    from the previous round (round_1) and returns a list of the \n",
        "    winners of the round.'''\n",
        "    \n",
        "    # Pick the winners of each matchup by looping through the matchups with the pick_best function\n",
        "    matchups = match_list\n",
        "    results_rd = []\n",
        "    i = 0\n",
        "    while i < len(matchups):\n",
        "        winner = pick_best(matchups[i][0], matchups[i][1])\n",
        "        results_rd.append(winner)\n",
        "        i += 1\n",
        "        \n",
        "    # Determine the halfway point of the list and only return the winning values\n",
        "    halfway = int(len(results_rd) / 2)\n",
        "    round_2_winners = tuple(zip(results_rd[:halfway], reversed(results_rd[halfway:])))\n",
        "    return round_2_winners"
      ],
      "execution_count": 14,
      "outputs": []
    },
    {
      "cell_type": "markdown",
      "metadata": {
        "id": "d_50Pcb7X_u5"
      },
      "source": [
        "### 5. Determine winners of the Sweet 16\n",
        "\n",
        "Unlike the previous round, the Sweet 16 round returns a list of results, rather than the tupled list. This is because there are only 4 teams left in each region, meaning that only 2 teams will be advancing to the regional finals or `Elite 8` and the order of these two teams does not matter."
      ]
    },
    {
      "cell_type": "code",
      "metadata": {
        "trusted": true,
        "id": "QRivS9_oX_u6"
      },
      "source": [
        "def sweet_16(match_list):\n",
        "    \n",
        "    '''Tthis runs the pick_best function for the matchups determined\n",
        "    from the previous round (round_2) and returns a list of the \n",
        "    winners of the round.'''\n",
        "    \n",
        "    # Pick the winners of each matchup by looping through the matchups with the pick_best function\n",
        "    matchups = match_list\n",
        "    results_rd = []\n",
        "    i = 0\n",
        "    while i < len(matchups):\n",
        "        winner = pick_best(matchups[i][0], matchups[i][1])\n",
        "        results_rd.append(winner)\n",
        "        i += 1\n",
        "    \n",
        "    # This puts the results into a list called sweet_16_winners\n",
        "    sweet_16_winners = list(results_rd)\n",
        "    return sweet_16_winners"
      ],
      "execution_count": 15,
      "outputs": []
    },
    {
      "cell_type": "markdown",
      "metadata": {
        "id": "Jp1ln_tYX_u_"
      },
      "source": [
        "### 6. Determine winners of the Elite 8\n",
        "\n",
        "The Elite 8 is made up of all the regional finalists. The finalists from the 4 regions go head-to-head, where the victor of the region will move on to the `Final Four`.\n",
        "\n",
        "This function is much more simple than the others, all that is needed is to import the list from the `sweet_16` function and pick the best of the two teams remaining using the `pick_best` function."
      ]
    },
    {
      "cell_type": "code",
      "metadata": {
        "trusted": true,
        "id": "_qxNXI-zX_vA"
      },
      "source": [
        "def elite_8(match_list):\n",
        "    \n",
        "    '''This function applies the pick_best function to the\n",
        "    winners of the sweet 16 round.'''\n",
        "    \n",
        "    matchups = match_list\n",
        "    \n",
        "    # Applt the function to the matchup in the elite 8\n",
        "    elite_winner = pick_best(matchups[0], matchups[1])\n",
        "    return elite_winner"
      ],
      "execution_count": 16,
      "outputs": []
    },
    {
      "cell_type": "markdown",
      "metadata": {
        "id": "V1iuuBsaX_vE"
      },
      "source": [
        "### 7. Pick the winners of the Final Four\n",
        "\n",
        "All of the regions have now found their respective representatives to participate in the semi-finals. There are 4 teams remaining, but now the numbers are not unique. For instance, if both the regional winners are seeded at `2`, how do we pick the best one?\n",
        "\n",
        "We will need to re-purpose the `pick_best` function into a function that will be pick the two teams that will be moving forward to the finals. This time, we will be including the regions in the information with the teams.  This function is called `pick_final`.\n",
        "\n",
        "The other questions surrounding the `pick_final` is: what if there is a tie or both teams are `1` seeds? In these situations, the teams will both have a 50/50 chance of moving forward, where the team that is first in the list will win with heads, and the second team with tails."
      ]
    },
    {
      "cell_type": "code",
      "metadata": {
        "trusted": true,
        "id": "pkoQ21gxX_vF"
      },
      "source": [
        "def pick_final(high_seed, low_seed, region_name):\n",
        "        \n",
        "    '''pick_final takes the high seed and the low seed and determines which \n",
        "    seed wins the round. The trial length is determined by the sum of the two seeds.\n",
        "    The region may be South, East, Midwest, or West.'''\n",
        "    \n",
        "    # Flip the coin a number of times equal to the sum of the low and high seeds\n",
        "    results = []\n",
        "    trial = 0\n",
        "    while trial < (low_seed + high_seed):\n",
        "        coin = rd.randint(1, 2)\n",
        "        if coin == 1:\n",
        "            results.append('H')\n",
        "            trial += 1\n",
        "        elif coin == 2:\n",
        "            results.append('T')\n",
        "            trial += 1\n",
        "    \n",
        "    # Determine the winner based on the results list, with the winner's region included\n",
        "    if results.count('H') > min(high_seed, low_seed):\n",
        "        return region_name[0], high_seed\n",
        "    else:\n",
        "        return region_name[1], low_seed"
      ],
      "execution_count": 17,
      "outputs": []
    },
    {
      "cell_type": "markdown",
      "metadata": {
        "id": "wv5aCLu1X_vJ"
      },
      "source": [
        "### 8. Determine which seeds go to the championship\n",
        "\n",
        "The top four teams are all that remain, each with a shot at making it to the championship round. Four teams stand, but in this round, two teams will fall, and two teams will be headed to the most prized game in NCAA basketball.\n",
        "\n",
        "In order to get the two winners, the `pick_final` function will be used. You will notice that the `i` and `j` variables are adding 2 to the total at the end of the while statement - this is so that we can pair up the `0` and `1` positions in the regions list and the `2` and `3` positions in the list - which plays out to be `East` vs. `West` and `South` vs. `Midwest` in the 2019 bracket. \n",
        "\n",
        "> List of regions: ['EAST', 'WEST', 'SOUTH', 'MIDWEST']"
      ]
    },
    {
      "cell_type": "code",
      "metadata": {
        "trusted": true,
        "id": "ZMakW3IBX_vL"
      },
      "source": [
        "def final_4(match_list, region_name):\n",
        "    \n",
        "    '''This runs the pick_final function for the matchups determined\n",
        "    from the previous round (elite_8) and returns a list of the \n",
        "    winners of the round. The regions are now being used in this function\n",
        "    to keep the regions and seedings together.'''\n",
        "    \n",
        "    matchups = tuple(zip(region_name, match_list))\n",
        "    results_rd = []\n",
        "    i = 0\n",
        "    j = 1\n",
        "    \n",
        "    # The regions list ['EAST', 'WEST', 'SOUTH', 'MIDWEST']\n",
        "    while i < len(matchups):\n",
        "        winner = pick_final(matchups[i][1], matchups[j][1], list((matchups[i][0], matchups[j][0])))\n",
        "        results_rd.append(winner)\n",
        "        i += 2\n",
        "        j += 2\n",
        "    \n",
        "    # List out the winners of the final four\n",
        "    final_4_winners = list(results_rd)\n",
        "    return final_4_winners"
      ],
      "execution_count": 18,
      "outputs": []
    },
    {
      "cell_type": "markdown",
      "metadata": {
        "id": "XsbKN--nX_vP"
      },
      "source": [
        "### 9. Combine and return all round results\n",
        "\n",
        "Before we define the function to pick the brackets, from `IPython.display`, make sure to import both `display` and `Markdown` - _these will make the output of text easier to read._\n",
        "\n",
        "Now it is time to use all of the functions defined previously - `round_1`, `round_2`, `sweet_16`, `elite_8`, `final_4`, and `pick_final`. This aggregation of all the previous functions will be called `pick_brackets` and will take `region_names` as an argument. `region_names` will be a list of all the regions in the bracket. Recall that the region names change depending on the year, we will cover how to order them in the next section.\n",
        "\n",
        "It is important to generate the round up until and including the winners of the regional finals for each individual region. To do this, we will loop through the regions and generate the winners using the functions for each of the first four rounds: `round_1`, `round_2`, `sweet_16`, and `elite_8`. After this section, we do not need to run through each region. The challenge for the last two round functions - `final_4`, and `pick_final` - is that we do have region name and seed number to keep track of.\n",
        "\n",
        "Next, the National Semifinalists will be chosen using the `final_4` function. Remember that `final_4` returns a list, so we have to make sure to return the items row-wise. For example, `final_4_winners[0][0]` and `final_4_winners[0][1]` would return the region with the correctly associated seeding.\n",
        "\n",
        "Finally, we crown a champion using the `pick_final` function. "
      ]
    },
    {
      "cell_type": "code",
      "metadata": {
        "trusted": true,
        "id": "hI89b86EX_vQ"
      },
      "source": [
        "from IPython.display import display, Markdown\n",
        "\n",
        "def pick_brackets(region_names):\n",
        "    \n",
        "    '''Comment '''\n",
        "    \n",
        "    # The name may change depending on year, the order of the list 'name' is important\n",
        "    region = []\n",
        "    name = region_names\n",
        "    round_ = 0\n",
        "    final_four = []\n",
        "    \n",
        "    # Run through each of the regions and display the results\n",
        "    while round_ < len(name):\n",
        "        \n",
        "        display(Markdown(\"### \" + name[round_]))\n",
        "        \n",
        "        rd_1_group = round_1()\n",
        "        display(Markdown(\"First Round: \" + str(rd_1_group)))\n",
        "        \n",
        "        rd_2_group = round_2(rd_1_group)\n",
        "        display(Markdown(\"Second Round: \" + str(rd_2_group)))\n",
        "        \n",
        "        rd_3_group = sweet_16(rd_2_group)\n",
        "        display(Markdown(\"Regional Semifinals: \" + str(rd_3_group)))\n",
        "        \n",
        "        conference_winner = elite_8(rd_3_group)\n",
        "        display(Markdown(\"Regional Finals:   \" + str(conference_winner)))\n",
        "        \n",
        "        final_four.append(conference_winner)\n",
        "        round_ += 1\n",
        "        \n",
        "    # Display the Winners of the National Semifinals - also known as the Final Four\n",
        "    display(Markdown(\"### National Semifinals\"))\n",
        "    final_4_winners = final_4(final_four, name)\n",
        "    display(Markdown(str(final_4_winners[0][0]) + \": \" + str(final_4_winners[0][1])))\n",
        "    display(Markdown(str(final_4_winners[1][0]) + \": \" + str(final_4_winners[1][1])))\n",
        "    \n",
        "    # Crown the champion and display both the region and seed of the winner\n",
        "    champion = pick_final(final_4_winners[0][1], final_4_winners[1][1], list((final_4_winners[0][0], final_4_winners[1][0])))\n",
        "    display(Markdown(\"### Champion: \" + str(champion[0]) + \", Seed \" + str(champion[1])))"
      ],
      "execution_count": 19,
      "outputs": []
    },
    {
      "cell_type": "markdown",
      "metadata": {
        "id": "qL-W4YbTX_vS"
      },
      "source": [
        "### 10. Make your picks\n",
        "\n",
        "<img src=\"https://www.ncaa.com/sites/default/files/public/styles/original/public-s3/images/2019/04/09/ncaa-tournament-bracket-2019-scores-games-virginia-texas-tech.png?itok=0E3VNWmI\" alt=\"March Madness Bracket 2019\" style=\"width:900px;\"/>\n",
        "\n",
        "###### Image Source: https://www.ncaa.com/news/basketball-men/ncaa-bracket-march-madness\n",
        "\n",
        "Everything is now in place - _except for the region names_. Referencing the region above, the list of regions must follow a specific order for this to work. The order in the list must look like the following:\n",
        "\n",
        "[`Upper Left`, `Lower Left`, `Upper Right`, `Lower Right`]\n",
        "\n",
        "This sequence, _referencing the 2019 March Madness Bracket above_, would have the order of `EAST`, `WEST`, `SOUTH`, then `MIDWEST`. Once this step is complete, you may run the `pick_brackets`.\n",
        "\n",
        "After the results are produced, you can fill in a bracked based on the results. For each of the regions, you will have 4 rounds of results to enter. For instance, if the second round results in the East are `((1,4),(7,3))` then the next round in the East Region will be seeds 1 vs. 4 and seeds 7 vs. 3."
      ]
    },
    {
      "cell_type": "code",
      "metadata": {
        "trusted": true,
        "id": "-sFfm86RX_vV",
        "colab": {
          "base_uri": "https://localhost:8080/",
          "height": 653
        },
        "outputId": "44d382e1-482d-4a8f-9c97-64642a14a66e"
      },
      "source": [
        "# Enter in the region names and then run the pick_brackets function\n",
        "region_names = ['EAST', 'WEST', 'SOUTH', 'MIDWEST']\n",
        "pick_brackets(region_names)"
      ],
      "execution_count": 20,
      "outputs": [
        {
          "output_type": "display_data",
          "data": {
            "text/markdown": "### EAST",
            "text/plain": [
              "<IPython.core.display.Markdown object>"
            ]
          },
          "metadata": {
            "tags": []
          }
        },
        {
          "output_type": "display_data",
          "data": {
            "text/markdown": "First Round: ((1, 8), (2, 10), (3, 6), (4, 5))",
            "text/plain": [
              "<IPython.core.display.Markdown object>"
            ]
          },
          "metadata": {
            "tags": []
          }
        },
        {
          "output_type": "display_data",
          "data": {
            "text/markdown": "Second Round: ((1, 4), (2, 6))",
            "text/plain": [
              "<IPython.core.display.Markdown object>"
            ]
          },
          "metadata": {
            "tags": []
          }
        },
        {
          "output_type": "display_data",
          "data": {
            "text/markdown": "Regional Semifinals: [1, 6]",
            "text/plain": [
              "<IPython.core.display.Markdown object>"
            ]
          },
          "metadata": {
            "tags": []
          }
        },
        {
          "output_type": "display_data",
          "data": {
            "text/markdown": "Regional Finals:   1",
            "text/plain": [
              "<IPython.core.display.Markdown object>"
            ]
          },
          "metadata": {
            "tags": []
          }
        },
        {
          "output_type": "display_data",
          "data": {
            "text/markdown": "### WEST",
            "text/plain": [
              "<IPython.core.display.Markdown object>"
            ]
          },
          "metadata": {
            "tags": []
          }
        },
        {
          "output_type": "display_data",
          "data": {
            "text/markdown": "First Round: ((1, 8), (2, 10), (3, 6), (4, 5))",
            "text/plain": [
              "<IPython.core.display.Markdown object>"
            ]
          },
          "metadata": {
            "tags": []
          }
        },
        {
          "output_type": "display_data",
          "data": {
            "text/markdown": "Second Round: ((1, 4), (2, 6))",
            "text/plain": [
              "<IPython.core.display.Markdown object>"
            ]
          },
          "metadata": {
            "tags": []
          }
        },
        {
          "output_type": "display_data",
          "data": {
            "text/markdown": "Regional Semifinals: [1, 2]",
            "text/plain": [
              "<IPython.core.display.Markdown object>"
            ]
          },
          "metadata": {
            "tags": []
          }
        },
        {
          "output_type": "display_data",
          "data": {
            "text/markdown": "Regional Finals:   2",
            "text/plain": [
              "<IPython.core.display.Markdown object>"
            ]
          },
          "metadata": {
            "tags": []
          }
        },
        {
          "output_type": "display_data",
          "data": {
            "text/markdown": "### SOUTH",
            "text/plain": [
              "<IPython.core.display.Markdown object>"
            ]
          },
          "metadata": {
            "tags": []
          }
        },
        {
          "output_type": "display_data",
          "data": {
            "text/markdown": "First Round: ((1, 8), (2, 7), (3, 6), (4, 5))",
            "text/plain": [
              "<IPython.core.display.Markdown object>"
            ]
          },
          "metadata": {
            "tags": []
          }
        },
        {
          "output_type": "display_data",
          "data": {
            "text/markdown": "Second Round: ((1, 4), (2, 3))",
            "text/plain": [
              "<IPython.core.display.Markdown object>"
            ]
          },
          "metadata": {
            "tags": []
          }
        },
        {
          "output_type": "display_data",
          "data": {
            "text/markdown": "Regional Semifinals: [1, 3]",
            "text/plain": [
              "<IPython.core.display.Markdown object>"
            ]
          },
          "metadata": {
            "tags": []
          }
        },
        {
          "output_type": "display_data",
          "data": {
            "text/markdown": "Regional Finals:   1",
            "text/plain": [
              "<IPython.core.display.Markdown object>"
            ]
          },
          "metadata": {
            "tags": []
          }
        },
        {
          "output_type": "display_data",
          "data": {
            "text/markdown": "### MIDWEST",
            "text/plain": [
              "<IPython.core.display.Markdown object>"
            ]
          },
          "metadata": {
            "tags": []
          }
        },
        {
          "output_type": "display_data",
          "data": {
            "text/markdown": "First Round: ((1, 9), (2, 7), (3, 6), (4, 5))",
            "text/plain": [
              "<IPython.core.display.Markdown object>"
            ]
          },
          "metadata": {
            "tags": []
          }
        },
        {
          "output_type": "display_data",
          "data": {
            "text/markdown": "Second Round: ((1, 5), (2, 6))",
            "text/plain": [
              "<IPython.core.display.Markdown object>"
            ]
          },
          "metadata": {
            "tags": []
          }
        },
        {
          "output_type": "display_data",
          "data": {
            "text/markdown": "Regional Semifinals: [1, 2]",
            "text/plain": [
              "<IPython.core.display.Markdown object>"
            ]
          },
          "metadata": {
            "tags": []
          }
        },
        {
          "output_type": "display_data",
          "data": {
            "text/markdown": "Regional Finals:   1",
            "text/plain": [
              "<IPython.core.display.Markdown object>"
            ]
          },
          "metadata": {
            "tags": []
          }
        },
        {
          "output_type": "display_data",
          "data": {
            "text/markdown": "### National Semifinals",
            "text/plain": [
              "<IPython.core.display.Markdown object>"
            ]
          },
          "metadata": {
            "tags": []
          }
        },
        {
          "output_type": "display_data",
          "data": {
            "text/markdown": "EAST: 1",
            "text/plain": [
              "<IPython.core.display.Markdown object>"
            ]
          },
          "metadata": {
            "tags": []
          }
        },
        {
          "output_type": "display_data",
          "data": {
            "text/markdown": "MIDWEST: 1",
            "text/plain": [
              "<IPython.core.display.Markdown object>"
            ]
          },
          "metadata": {
            "tags": []
          }
        },
        {
          "output_type": "display_data",
          "data": {
            "text/markdown": "### Champion: EAST, Seed 1",
            "text/plain": [
              "<IPython.core.display.Markdown object>"
            ]
          },
          "metadata": {
            "tags": []
          }
        }
      ]
    }
  ]
}
